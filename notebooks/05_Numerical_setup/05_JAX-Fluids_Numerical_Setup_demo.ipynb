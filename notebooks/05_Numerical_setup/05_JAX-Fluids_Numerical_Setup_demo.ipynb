{
 "cells": [
  {
   "cell_type": "markdown",
   "id": "6c628043",
   "metadata": {},
   "source": [
    "# JAX-Fluids: Numerical setup demo\n",
    "This demo will show what a typical numerical setup file contains and how you can change the numerical setup for your simulation. We use the case setup \"01_case_setup_sod.json\" from an earlier tutorial and the numerical setup \"01_numerical_setup_sod.json\"."
   ]
  },
  {
   "cell_type": "code",
   "execution_count": null,
   "id": "6c582ab9",
   "metadata": {},
   "outputs": [],
   "source": [
    "import json\n",
    "from jaxfluids import InputReader, Initializer, SimulationManager\n",
    "from jaxfluids.post_process import load_data, create_lineplot"
   ]
  },
  {
   "cell_type": "markdown",
   "id": "01ecee10",
   "metadata": {},
   "source": [
    "## Numerical Setup\n",
    "In JAX-Fluids we typically specify the numerical setup via a json file. In the first tutorial we have seen that we can pass the path to any numerical setup as a string to the InputReader. Internally, the InputReader will read the json file and convert it to a dictionary."
   ]
  },
  {
   "cell_type": "code",
   "execution_count": null,
   "id": "6b808f68",
   "metadata": {},
   "outputs": [],
   "source": [
    "input_reader = InputReader(\"01_case_setup_sod.json\", \"01_numerical_setup_sod.json\")"
   ]
  },
  {
   "cell_type": "markdown",
   "id": "7b361830",
   "metadata": {},
   "source": [
    "However, it is also possible to pass a dictionary directly to the InputReader. Let us load the 01_numerical_setup_sod.json file and look what it contains."
   ]
  },
  {
   "cell_type": "code",
   "execution_count": null,
   "id": "53542911",
   "metadata": {},
   "outputs": [],
   "source": [
    "numerical_setup = json.load(open(\"01_numerical_setup_sod.json\"))\n",
    "numerical_setup.keys()"
   ]
  },
  {
   "cell_type": "markdown",
   "id": "bcd79a57",
   "metadata": {},
   "source": [
    "The case setup specifies what numerical schemes are used for your simulation. Here, the numerical setup contains the keys \"conservatives\", \"active_physics\", \"active_forcings\", and \"output\". Let us have a look which numerical methods are used to integrate the buffer of conservative variables."
   ]
  },
  {
   "cell_type": "code",
   "execution_count": null,
   "id": "f68e00e0",
   "metadata": {},
   "outputs": [],
   "source": [
    "numerical_setup[\"conservatives\"]"
   ]
  },
  {
   "cell_type": "markdown",
   "id": "ef247aec",
   "metadata": {},
   "source": [
    "Currently we use 4 halo cells for the boundary conditions and the time integrator is a TVD Runge-Kutta 3 scheme. The convective fluxes are calculated with a WENO5-JS reconstruction scheme and an HLLC Riemann solver. We exchange the HLLC Riemann solver for an HLL Riemann solver and use a WENO3-JS reconstruction scheme."
   ]
  },
  {
   "cell_type": "code",
   "execution_count": null,
   "id": "275ffc67",
   "metadata": {},
   "outputs": [],
   "source": [
    "numerical_setup[\"conservatives\"][\"convective_fluxes\"][\"riemann_solver\"] = \"HLL\"\n",
    "numerical_setup[\"conservatives\"][\"convective_fluxes\"][\"spatial_reconstructor\"] = \"WENO3-JS\""
   ]
  },
  {
   "cell_type": "markdown",
   "id": "4908fc6e",
   "metadata": {},
   "source": [
    "The updated numeric"
   ]
  },
  {
   "cell_type": "code",
   "execution_count": null,
   "id": "ff1ff1d8",
   "metadata": {},
   "outputs": [],
   "source": [
    "numerical_setup[\"conservatives\"]"
   ]
  },
  {
   "cell_type": "markdown",
   "id": "7bd5e387",
   "metadata": {},
   "source": [
    "## Simulation Setup\n",
    "To run a forward simulation with JAX-Fluids, you need an InputRead, an Initializer, and a SimulationManager."
   ]
  },
  {
   "cell_type": "markdown",
   "id": "f656ff06",
   "metadata": {},
   "source": [
    "The InputReader reads a case setup file and a numerical setup file. Now, we pass the updated case setup dictionary to the InputReader."
   ]
  },
  {
   "cell_type": "code",
   "execution_count": null,
   "id": "9845f7d5",
   "metadata": {},
   "outputs": [],
   "source": [
    "input_reader = InputReader(\"01_case_setup_sod.json\", numerical_setup)\n",
    "initializer  = Initializer(input_reader)\n",
    "sim_manager  = SimulationManager(input_reader)"
   ]
  },
  {
   "cell_type": "markdown",
   "id": "b2fb3f77",
   "metadata": {},
   "source": [
    "## Run Simulation\n",
    "The Initializer creates a dictionary which contains all initial flow fields. The SimulationManager runs the simulation and writes h5 output files."
   ]
  },
  {
   "cell_type": "code",
   "execution_count": null,
   "id": "cf7c8231",
   "metadata": {},
   "outputs": [],
   "source": [
    "buffer_dictionary = initializer.initialization()\n",
    "sim_manager.simulate(buffer_dictionary)"
   ]
  },
  {
   "cell_type": "markdown",
   "id": "a0a0faf9",
   "metadata": {},
   "source": [
    "## Load Data\n",
    "JAX-Fluids offers post-processing tools for visualizing your simulation data. You can find them under jaxfluids.post_process."
   ]
  },
  {
   "cell_type": "code",
   "execution_count": null,
   "id": "69ae755c",
   "metadata": {},
   "outputs": [],
   "source": [
    "path = sim_manager.output_writer.save_path_domain\n",
    "quantities = [\"density\", \"velocityX\", \"pressure\"]\n",
    "cell_centers, cell_sizes, times, data_dict = load_data(path, quantities)"
   ]
  },
  {
   "cell_type": "markdown",
   "id": "5ceb2c3d",
   "metadata": {},
   "source": [
    "## Visualize Data"
   ]
  },
  {
   "cell_type": "code",
   "execution_count": null,
   "id": "b8526369",
   "metadata": {},
   "outputs": [],
   "source": [
    "nrows_ncols = (1,3)\n",
    "create_lineplot(data_dict, cell_centers, times, nrows_ncols=nrows_ncols, interval=100, static_time=0.2)"
   ]
  },
  {
   "cell_type": "code",
   "execution_count": null,
   "id": "765a237c",
   "metadata": {},
   "outputs": [],
   "source": []
  }
 ],
 "metadata": {
  "kernelspec": {
   "display_name": "Python 3 (ipykernel)",
   "language": "python",
   "name": "python3"
  },
  "language_info": {
   "codemirror_mode": {
    "name": "ipython",
    "version": 3
   },
   "file_extension": ".py",
   "mimetype": "text/x-python",
   "name": "python",
   "nbconvert_exporter": "python",
   "pygments_lexer": "ipython3",
   "version": "3.8.8"
  }
 },
 "nbformat": 4,
 "nbformat_minor": 5
}
