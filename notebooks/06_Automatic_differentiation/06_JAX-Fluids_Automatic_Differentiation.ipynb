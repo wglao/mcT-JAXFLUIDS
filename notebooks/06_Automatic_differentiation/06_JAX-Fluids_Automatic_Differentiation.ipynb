{
 "cells": [
  {
   "cell_type": "markdown",
   "id": "a5569d63",
   "metadata": {},
   "source": [
    "# JAX-Fluids: Automatic Differentiation demo\n",
    "This demo will demonstrate how you can differentiate through a simple 1D simulation with JAX-Fluids."
   ]
  },
  {
   "cell_type": "code",
   "execution_count": null,
   "id": "e2d33964",
   "metadata": {},
   "outputs": [],
   "source": [
    "import json\n",
    "import matplotlib.pyplot as plt\n",
    "import numpy as np\n",
    "import jax\n",
    "import jax.numpy as jnp\n",
    "from nlfvs.input_reader import InputReader\n",
    "from nlfvs.initializer import Initializer\n",
    "from nlfvs.simulation_manager import SimulationManager"
   ]
  },
  {
   "cell_type": "code",
   "execution_count": null,
   "id": "baf22e72",
   "metadata": {},
   "outputs": [],
   "source": [
    "case_dict = json.load(open(\"01_numerical_setup_sod.json\"))\n",
    "numerical_setup_dict = json.load(open(\"numerical_setup.json\"))\n",
    "\n",
    "input_reader = InputReader(case_dict, numerical_setup_dict)\n",
    "initializer  = Initializer(input_reader)\n",
    "sim_manager  = SimulationManager(input_reader)\n",
    "\n",
    "# PRE SHOCK CONDITIONS\n",
    "gamma_L, gamma_R = 1.4\n",
    "rho_R = p_R = 1.0\n",
    "a_R   = np.sqrt(gamma_R * p_R / rho_R)\n",
    "u_R   = 0.0\n",
    "M_R   = u_R / a_R\n",
    "\n",
    "@jax.jit\n",
    "def fun(M_S: float = 2.0):\n",
    "    traj_length = 5\n",
    "    time_step   = 1e-2\n",
    "    res = case_dict[\"nx\"]\n",
    "\n",
    "    dx = 1.0 / res\n",
    "    x_cf   = jnp.linspace(0, 1, num=res+1)\n",
    "    x_cc = 0.5 * (x_cf[1:] + x_cf[:-1])\n",
    "\n",
    "    # POST SHOCK RANKINE HUGONIOT CONDITIONS\n",
    "    p_L   = p_R * ( 1/(gamma_L + 1) * (gamma_R * (M_R - M_S)**2 + 1) + jnp.sqrt( (1/(gamma_L + 1) * (gamma_R * (M_R - M_S)**2 + 1))**2 - (gamma_L-1)/(gamma_L+1) * ((M_R-M_S)**2 * 2 * gamma_R/(gamma_R - 1) - 1) )) \n",
    "    rho_L = rho_R *  (gamma_R - 1)/(gamma_L - 1) * ( p_L / p_R + (gamma_L - 1)/ (gamma_L + 1) ) / ( p_L / p_R * (gamma_R - 1) / (gamma_L + 1) + (gamma_R + 1) / (gamma_L + 1) ) \n",
    "    u_L   = a_R * ( rho_R/rho_L * (M_R - M_S) + M_S )\n",
    "\n",
    "    # INTIAL BUFFER\n",
    "    prime_init      = jnp.zeros((1, 5, res, 1, 1))\n",
    "    prime_init      = prime_init.at[0,0,:,0,0].set(jnp.where(x_cc > 0.5, rho_R, rho_L))\n",
    "    prime_init      = prime_init.at[0,1,:,0,0].set(jnp.where(x_cc > 0.5, u_R, u_L))\n",
    "    prime_init      = prime_init.at[0,4,:,0,0].set(jnp.where(x_cc > 0.5, p_R, p_L))\n",
    "    levelset_init   = None\n",
    "\n",
    "    # FORWARD SIMULATION\n",
    "    data_series, _ = sim_manager.feed_forward(\n",
    "        prime_init, \n",
    "        levelset_init, \n",
    "        traj_length, \n",
    "        time_step, \n",
    "        0.0, 1, None, None)\n",
    "    data_series = data_series[0]\n",
    "\n",
    "    # COMPUTE SCALAR OUTPUT QUANTITY\n",
    "    entropy = data_series[:,4] / data_series[:,0]**gamma_L\n",
    "    total_entropy = jnp.mean(data_series[-1,0] * entropy[-1] - data_series[0,0] * entropy[0]) \n",
    "    return total_entropy"
   ]
  },
  {
   "cell_type": "code",
   "execution_count": null,
   "id": "013960bc",
   "metadata": {},
   "outputs": [],
   "source": [
    "# RUN THE FUNCTION ONCE FOR COMPILATION\n",
    "M_S = 2.0\n",
    "print(\"TOTAL ENTROPY:\", fun(M_S))\n",
    "\n",
    "# COMPUTE AUTO-DIFFERENTIATION GRADIENT\n",
    "fun_val_and_grad = jax.value_and_grad(fun)\n",
    "mass = fun_val_and_grad(jnp.array([M_S]))\n",
    "print(\"JAX GRADIENT:\", mass)\n",
    "\n",
    "# COMPUTE FINITE-DIFFERENCE GRADIENTS\n",
    "eps_list = [1e-1, 3e-2, 1e-2, 3e-3, 1e-3, 3e-4, 1e-4]\n",
    "err_list = []\n",
    "for eps in eps_list:\n",
    "    mass_eps = (fun(M_S + eps) - fun(M_S - eps)) / (2 * eps)\n",
    "    print(\"EPS GRADIENT:\", mass_eps)\n",
    "    err_list.append(np.abs(mass[1] - mass_eps))\n",
    "eps_array = np.array(eps_list)\n",
    "err_array = np.array(err_list)"
   ]
  },
  {
   "cell_type": "code",
   "execution_count": null,
   "id": "1309e7b3",
   "metadata": {},
   "outputs": [],
   "source": [
    "# PLOTTING\n",
    "fig, ax = plt.subplots()\n",
    "ax.plot(eps_array, err_array, marker=\"o\")\n",
    "ax.plot(eps_array, 0.5 * err_array[0] / eps_array[0]**2 * eps_array**(2), color=\"black\")\n",
    "ax.set_xscale(\"log\")\n",
    "ax.set_yscale(\"log\")\n",
    "ax.set_xlabel(r\"$\\epsilon$\")\n",
    "ax.set_ylabel(r\"$\\vert g_{AD} - g_{FD}^{\\epsilon} \\vert_1$\")\n",
    "# plt.savefig(\"./figs/gradient_check_single.png\")\n",
    "plt.show()\n",
    "plt.close()"
   ]
  }
 ],
 "metadata": {
  "kernelspec": {
   "display_name": "Python 3",
   "language": "python",
   "name": "python3"
  },
  "language_info": {
   "codemirror_mode": {
    "name": "ipython",
    "version": 3
   },
   "file_extension": ".py",
   "mimetype": "text/x-python",
   "name": "python",
   "nbconvert_exporter": "python",
   "pygments_lexer": "ipython3",
   "version": "3.8.10"
  }
 },
 "nbformat": 4,
 "nbformat_minor": 5
}
