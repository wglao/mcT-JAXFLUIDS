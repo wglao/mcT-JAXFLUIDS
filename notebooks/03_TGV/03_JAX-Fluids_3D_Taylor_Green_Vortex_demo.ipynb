{
 "cells": [
  {
   "cell_type": "markdown",
   "id": "6c628043",
   "metadata": {},
   "source": [
    "# JAX-Fluids: Taylor Green vortex demo\n",
    "This demo will demonstrate how you can run a 3D simulation with JAX-Fluids. Here, we simulate the Taylor Green vortex."
   ]
  },
  {
   "cell_type": "code",
   "execution_count": null,
   "id": "6c582ab9",
   "metadata": {},
   "outputs": [],
   "source": [
    "import numpy as np\n",
    "from jaxfluids import InputReader, Initializer, SimulationManager\n",
    "from jaxfluids.post_process import load_data, create_contourplot"
   ]
  },
  {
   "cell_type": "markdown",
   "id": "7bd5e387",
   "metadata": {},
   "source": [
    "## Simulation Setup\n",
    "To run a forward simulation with JAX-Fluids, you need an InputRead, an Initializer, and a SimulationManager."
   ]
  },
  {
   "cell_type": "markdown",
   "id": "b09a12b0",
   "metadata": {},
   "source": [
    "The InputReader reads a case setup file (here, \"03_case_setup_tgv.json\") and a numerical setup file (here, \"03_numerical_setup_tgv.json\"). The case setup specifies the physical setup of your simulation and the numerical setup specifies with which numerical methods you want to run your simulation."
   ]
  },
  {
   "cell_type": "code",
   "execution_count": null,
   "id": "9845f7d5",
   "metadata": {},
   "outputs": [],
   "source": [
    "input_reader = InputReader(\"03_case_setup_tgv.json\", \"03_numerical_setup_tgv.json\")\n",
    "initializer  = Initializer(input_reader)\n",
    "sim_manager  = SimulationManager(input_reader)"
   ]
  },
  {
   "cell_type": "markdown",
   "id": "b2fb3f77",
   "metadata": {},
   "source": [
    "## Run Simulation\n",
    "The Initializer creates a dictionary which contains all initial flow fields. The SimulationManager runs the simulation and writes h5 output files."
   ]
  },
  {
   "cell_type": "code",
   "execution_count": null,
   "id": "cf7c8231",
   "metadata": {},
   "outputs": [],
   "source": [
    "buffer_dictionary = initializer.initialization()\n",
    "sim_manager.simulate(buffer_dictionary)"
   ]
  },
  {
   "cell_type": "markdown",
   "id": "9c99c035",
   "metadata": {},
   "source": [
    "## Load Data\n",
    "JAX-Fluids offers post-processing tools for visualizing your simulation data. You can find them under jaxfluids.post_process."
   ]
  },
  {
   "cell_type": "code",
   "execution_count": null,
   "id": "e818e4e2",
   "metadata": {},
   "outputs": [],
   "source": [
    "path = sim_manager.output_writer.save_path_domain\n",
    "quantities = [\"velocity\", \"vorticity\"]\n",
    "cell_centers, cell_sizes, times, data_dict = load_data(path, quantities, N=2)"
   ]
  },
  {
   "cell_type": "markdown",
   "id": "fe42afa1",
   "metadata": {},
   "source": [
    "## Visualize Data"
   ]
  },
  {
   "cell_type": "code",
   "execution_count": null,
   "id": "e3e01ceb",
   "metadata": {},
   "outputs": [],
   "source": [
    "velocity_vec = data_dict[\"velocity\"]\n",
    "vorticity_vec = data_dict[\"vorticity\"]\n",
    "absolute_velocity = np.sqrt(velocity_vec[:,0]**2 + velocity_vec[:,1]**2 + velocity_vec[:,2]**2)\n",
    "absolute_vorticity = np.sqrt(vorticity_vec[:,0]**2 + vorticity_vec[:,1]**2 + vorticity_vec[:,2]**2)\n",
    "plot_dict = {\n",
    "    \"absolute_velocity\" : absolute_velocity,\n",
    "    \"absolute_vorticity\": absolute_vorticity\n",
    "}\n",
    "nrows_ncols = (1,2)\n",
    "create_contourplot(plot_dict, cell_centers, times, nrows_ncols=nrows_ncols, plane=\"xy\", interval=100, static_time=3.0)"
   ]
  },
  {
   "cell_type": "code",
   "execution_count": null,
   "id": "72678310",
   "metadata": {},
   "outputs": [],
   "source": []
  }
 ],
 "metadata": {
  "kernelspec": {
   "display_name": "Python 3.9.5 ('base')",
   "language": "python",
   "name": "python3"
  },
  "language_info": {
   "codemirror_mode": {
    "name": "ipython",
    "version": 3
   },
   "file_extension": ".py",
   "mimetype": "text/x-python",
   "name": "python",
   "nbconvert_exporter": "python",
   "pygments_lexer": "ipython3",
   "version": "3.9.5"
  },
  "vscode": {
   "interpreter": {
    "hash": "485c59b705d233c4ac786e9ff85a7372a2b8cec3ed17e7bdf468ef609ba85e8d"
   }
  }
 },
 "nbformat": 4,
 "nbformat_minor": 5
}
