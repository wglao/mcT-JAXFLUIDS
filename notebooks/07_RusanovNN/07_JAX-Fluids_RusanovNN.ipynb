{
 "cells": [
  {
   "cell_type": "markdown",
   "id": "880d3e2a",
   "metadata": {},
   "source": [
    "# JAX-Fluids: Rusanov-NN \n",
    "This notebook demonstrates how you can use neural networks during a simulation with JAX-Fluids. We simulate a 2D Riemann problem with a data-driven variant of the classical Rusanov (Local Lax-Friedrichs) Riemann solver. We will compare the performance of the Rusanov scheme with the Rusanov-NN scheme.\n",
    "\n",
    "If we want to use a machine-learning supported numerical model in JAX-Fluids we have two options:\n",
    "- Encode the network and the pre-trained network weights into the corresponding function\n",
    "- Pass the network and network weigths into JAX-Fluids via the buffer_dictionary\n",
    "\n",
    "In particular, the simulate() method of the SimulationManager gets as input the buffer_dictionary with holds the inital physical fields. Under the key machinelearning_modules, the buffer_dictionary holds two further dictionaries:\n",
    "- buffer_dictionary\n",
    "    - machinelearning_modules\n",
    "        - ml_parameters_dict\n",
    "        - ml_networks_dict\n",
    "        \n",
    "ml_parameters_dict and ml_networks_dict are passed to most of the compute-heavy subroutines (e.g. cell-face reconstruction, Riemann solver, right-hand-side evaluation) in JAX-Fluids. Therefore, user-specified parameters and networks can simply be added to the machinelearning_modules dictionary. It is the users task to implement how these neural networks are then used in JAX-Fluids.\n",
    "\n",
    "In this notebook, we demonstrate how the Rusanov-NN Riemann solver can be used by passing a multi-layer perceptron (build in haiku) and pre-trained weights to JAX-Fluids. "
   ]
  },
  {
   "cell_type": "code",
   "execution_count": null,
   "id": "82a418c9",
   "metadata": {},
   "outputs": [],
   "source": [
    "import matplotlib.pyplot as plt\n",
    "import numpy as np\n",
    "import pickle\n",
    "import jax\n",
    "import jax.numpy as jnp\n",
    "import haiku as hk\n",
    "from jaxfluids import InputReader, Initializer, SimulationManager\n",
    "from jaxfluids.post_process import load_data, create_lineplot"
   ]
  },
  {
   "cell_type": "markdown",
   "id": "5f60520f",
   "metadata": {},
   "source": [
    "# Simulation Setup\n",
    "We load the case setup file and the numerical setup file."
   ]
  },
  {
   "cell_type": "code",
   "execution_count": null,
   "id": "459cce4d",
   "metadata": {},
   "outputs": [],
   "source": [
    "import json\n",
    "case_setup = json.load(open(\"07_case_setup_riemann2D.json\"))\n",
    "numerical_setup = json.load(open(\"07_numerical_setup_riemann2D.json\"))"
   ]
  },
  {
   "cell_type": "markdown",
   "id": "0403f730",
   "metadata": {},
   "source": [
    "## HLLC 128x128\n",
    "First, we conduct a highly-resolved simulation (128x128 cells) with the HLLC scheme. We choose the HLLC Riemann solver in the numerical setup and set the resolution in x- and y-direction in the case setup file accordingly."
   ]
  },
  {
   "cell_type": "code",
   "execution_count": null,
   "id": "d7b48ff2",
   "metadata": {},
   "outputs": [],
   "source": [
    "numerical_setup[\"conservatives\"][\"convective_fluxes\"][\"riemann_solver\"] = \"HLLC\"\n",
    "for xi in [\"x\", \"y\"]:\n",
    "    case_setup[\"domain\"][xi][\"cells\"] = 128\n",
    "input_reader = InputReader(case_setup, numerical_setup)\n",
    "initializer  = Initializer(input_reader)\n",
    "sim_manager  = SimulationManager(input_reader)\n",
    "buffer_dictionary = initializer.initialization()\n",
    "sim_manager.simulate(buffer_dictionary)\n",
    "path = sim_manager.output_writer.save_path_domain\n",
    "quantities = [\"density\", \"velocity\", \"pressure\"]\n",
    "cell_centers_128, _, times_128, data_dict_128 = load_data(path, quantities)"
   ]
  },
  {
   "cell_type": "markdown",
   "id": "e34002e7",
   "metadata": {},
   "source": [
    "## Rusanov 32x32\n",
    "Second, we conduct a coarse simulation (32x32 cells) with the classical Rusanov scheme. We choose the Rusanov Riemann solver in the numerical setup file and set the resolution in x- and y-direction in the case setup file accordingly."
   ]
  },
  {
   "cell_type": "code",
   "execution_count": null,
   "id": "d5f1bbef",
   "metadata": {},
   "outputs": [],
   "source": [
    "numerical_setup[\"conservatives\"][\"convective_fluxes\"][\"riemann_solver\"] = \"RUSANOV\"\n",
    "for xi in [\"x\", \"y\"]:\n",
    "    case_setup[\"domain\"][xi][\"cells\"] = 32\n",
    "input_reader = InputReader(case_setup, numerical_setup)\n",
    "initializer  = Initializer(input_reader)\n",
    "sim_manager  = SimulationManager(input_reader)\n",
    "buffer_dictionary = initializer.initialization()\n",
    "sim_manager.simulate(buffer_dictionary)\n",
    "path = sim_manager.output_writer.save_path_domain\n",
    "quantities = [\"density\", \"velocity\", \"pressure\"]\n",
    "cell_centers_32, _, times_32, data_dict_32 = load_data(path, quantities)"
   ]
  },
  {
   "cell_type": "markdown",
   "id": "895a3d25",
   "metadata": {},
   "source": [
    "## Rusanov-NN 32x32\n",
    "Third, we conduct a coarse simulation (32x32 cells) with the Rusanov-NN scheme. We choose the Rusanov-NN Riemann solver in the numerical setup file and set the resolution in x- and y-direction in the case setup file accordingly."
   ]
  },
  {
   "cell_type": "code",
   "execution_count": null,
   "id": "abd1b1b6",
   "metadata": {},
   "outputs": [],
   "source": [
    "numerical_setup[\"conservatives\"][\"convective_fluxes\"][\"riemann_solver\"] = \"RUSANOVNN\"\n",
    "for xi in [\"x\", \"y\"]:\n",
    "    case_setup[\"domain\"][xi][\"cells\"] = 32\n",
    "input_reader = InputReader(case_setup, numerical_setup)\n",
    "initializer  = Initializer(input_reader)\n",
    "sim_manager  = SimulationManager(input_reader)\n",
    "buffer_dictionary = initializer.initialization()"
   ]
  },
  {
   "cell_type": "markdown",
   "id": "1a2c924c",
   "metadata": {},
   "source": [
    "The buffer_dictionary is a dictionary which is returned by the initializer. The dictionary has the following keys:\n",
    "- material_fields\n",
    "- levelset_quantities\n",
    "- mass_flow_forcing\n",
    "- machinelearning_modules\n",
    "- time_control\n",
    "\n",
    "The item machinelearning_modules holds network parameters and network callables. It is again a dictionary with the following two sub-keys:\n",
    "- machinelearning_modules\n",
    "    - ml_parameters_dict\n",
    "    - ml_networks_dict"
   ]
  },
  {
   "cell_type": "code",
   "execution_count": null,
   "id": "d11565d2",
   "metadata": {},
   "outputs": [],
   "source": [
    "print(\"Buffer dictionary:\\n  \", buffer_dictionary.keys())\n",
    "print(\"Machine-learning modules:\\n   \", buffer_dictionary[\"machinelearning_modules\"].keys())"
   ]
  },
  {
   "cell_type": "markdown",
   "id": "2a58304d",
   "metadata": {},
   "source": [
    "## Build network in haiku\n",
    "We build a simple multi-layer perceptron in haiku."
   ]
  },
  {
   "cell_type": "code",
   "execution_count": null,
   "id": "5f58237d",
   "metadata": {},
   "outputs": [],
   "source": [
    "def net_fn(x_in):\n",
    "    \"\"\"Multi-layer perceptron \"\"\"\n",
    "    x = jnp.transpose(x_in[:, :, :, 0])\n",
    "    mlp = hk.Sequential([\n",
    "        hk.Linear(32), jax.nn.relu,\n",
    "        hk.Linear(32), jax.nn.relu,\n",
    "        hk.Linear(1), \n",
    "    ])\n",
    "    x_out = jnp.exp(mlp(x))\n",
    "    x_out = jnp.expand_dims(jnp.transpose(x_out), axis=-1)\n",
    "    return x_out\n",
    "net = hk.without_apply_rng(hk.transform(net_fn))"
   ]
  },
  {
   "cell_type": "markdown",
   "id": "9bb449bd",
   "metadata": {},
   "source": [
    "## Load network parameters \n",
    "We load the pre-trained network parameters from a pickle file."
   ]
  },
  {
   "cell_type": "code",
   "execution_count": null,
   "id": "fa89fe12",
   "metadata": {},
   "outputs": [],
   "source": [
    "with open(\"07_RusanovNN_params.pkl\", \"rb\") as file:\n",
    "    ckpt = pickle.load(file)\n",
    "    params = ckpt[\"params\"]"
   ]
  },
  {
   "cell_type": "code",
   "execution_count": null,
   "id": "33a2d943",
   "metadata": {},
   "outputs": [],
   "source": [
    "ml_params_dict = {\"riemannsolver\": params}\n",
    "buffer_dictionary[\"machinelearning_modules\"][\"ml_parameters_dict\"] = ml_params_dict\n",
    "ml_networks_dict = hk.data_structures.to_immutable_dict({\"riemannsolver\": net})\n",
    "buffer_dictionary[\"machinelearning_modules\"][\"ml_networks_dict\"] = ml_networks_dict\n",
    "sim_manager.simulate(buffer_dictionary)\n",
    "path = sim_manager.output_writer.save_path_domain\n",
    "quantities = [\"density\", \"velocity\", \"pressure\"]\n",
    "cell_centers_NN32, _, times_NN32, data_dict_NN32 = load_data(path, quantities)"
   ]
  },
  {
   "cell_type": "markdown",
   "id": "1f08994d",
   "metadata": {},
   "source": [
    "## Visualize the results\n",
    "We visualize the HLLC "
   ]
  },
  {
   "cell_type": "code",
   "execution_count": null,
   "id": "1f99b456",
   "metadata": {},
   "outputs": [],
   "source": [
    "plot_times = [0.05, 0.15, 0.2, 0.5, 1.0, 2.0]\n",
    "cmap = \"seismic\"\n",
    "fig, ax = plt.subplots(figsize=(15,10), nrows=3, ncols=6)\n",
    "for ii, plot_time in enumerate(plot_times):\n",
    "    plot_id = np.argmin(np.abs(times_128 - plot_time))\n",
    "    abs_vel_128 = np.sqrt(np.sum(data_dict_128[\"velocity\"][plot_id,:,:,:,0]**2, axis=0))\n",
    "    vmin = np.min(abs_vel_128)\n",
    "    vmax = np.max(abs_vel_128)\n",
    "    ax[0,ii].imshow(abs_vel_128.T, origin=\"lower\", vmin=vmin, vmax=vmax, cmap=cmap)\n",
    "    plot_id = np.argmin(np.abs(times_32 - plot_time))\n",
    "    abs_vel_32 = np.sqrt(np.sum(data_dict_32[\"velocity\"][plot_id,:,:,:,0]**2, axis=0))\n",
    "    ax[1,ii].imshow(abs_vel_32.T, origin=\"lower\", vmin=vmin, vmax=vmax, cmap=cmap)\n",
    "    plot_id = np.argmin(np.abs(times_NN32 - plot_time))\n",
    "    abs_vel_NN32 = np.sqrt(np.sum(data_dict_NN32[\"velocity\"][plot_id,:,:,:,0]**2, axis=0))\n",
    "    ax[2,ii].imshow(abs_vel_NN32.T, origin=\"lower\", vmin=vmin, vmax=vmax, cmap=cmap)\n",
    "for axi in ax.flatten():\n",
    "    axi.tick_params(left=False, bottom=False, labelleft=False, labelbottom=False)\n",
    "ax[0,0].set_ylabel(\"EXACT\", fontsize=12)\n",
    "ax[1,0].set_ylabel(\"RUSANOV\", fontsize=12)\n",
    "ax[2,0].set_ylabel(\"RUSANOV-NN\", fontsize=12)\n",
    "plt.show()"
   ]
  },
  {
   "cell_type": "code",
   "execution_count": null,
   "id": "1904031e",
   "metadata": {},
   "outputs": [],
   "source": []
  }
 ],
 "metadata": {
  "kernelspec": {
   "display_name": "Python 3 (ipykernel)",
   "language": "python",
   "name": "python3"
  },
  "language_info": {
   "codemirror_mode": {
    "name": "ipython",
    "version": 3
   },
   "file_extension": ".py",
   "mimetype": "text/x-python",
   "name": "python",
   "nbconvert_exporter": "python",
   "pygments_lexer": "ipython3",
   "version": "3.8.0"
  }
 },
 "nbformat": 4,
 "nbformat_minor": 5
}
