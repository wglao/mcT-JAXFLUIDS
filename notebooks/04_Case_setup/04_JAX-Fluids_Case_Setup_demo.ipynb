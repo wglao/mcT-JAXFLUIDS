{
 "cells": [
  {
   "cell_type": "markdown",
   "id": "6c628043",
   "metadata": {},
   "source": [
    "# JAX-Fluids: Case setup demo\n",
    "This demo will show what a typical case setup file contains and how you can change the case setup for your simulation. We use the case setup \"01_case_setup_sod.json\" from an earlier tutorial."
   ]
  },
  {
   "cell_type": "code",
   "execution_count": null,
   "id": "6c582ab9",
   "metadata": {},
   "outputs": [],
   "source": [
    "import json\n",
    "from jaxfluids import InputReader, Initializer, SimulationManager\n",
    "from jaxfluids.post_process import load_data, create_lineplot"
   ]
  },
  {
   "cell_type": "markdown",
   "id": "e7989c81",
   "metadata": {},
   "source": [
    "## Case Setup\n",
    "In JAX-Fluids we typically specify the case setup via a json file. In the first tutorial we have seen that we can pass the path to any case setup as a string to the InputReader. Internally, the InputReader will read the json file and convert it to a dictionary."
   ]
  },
  {
   "cell_type": "code",
   "execution_count": null,
   "id": "1bfa0948",
   "metadata": {},
   "outputs": [],
   "source": [
    "input_reader = InputReader(\"01_case_setup_sod.json\", \"01_numerical_setup_sod.json\")"
   ]
  },
  {
   "cell_type": "markdown",
   "id": "fbcf7e55",
   "metadata": {},
   "source": [
    "However, it is also possible to pass a dictionary directly to the InputReader. Let us load the 01_case_setup_sod.json file and look what it contains."
   ]
  },
  {
   "cell_type": "code",
   "execution_count": null,
   "id": "59d3dd1b",
   "metadata": {},
   "outputs": [],
   "source": [
    "case_setup = json.load(open(\"01_case_setup_sod.json\"))\n",
    "case_setup.keys()"
   ]
  },
  {
   "cell_type": "markdown",
   "id": "17682af5",
   "metadata": {},
   "source": [
    "The case setup specifies general simulation properties, domain properties, boundary conditions, initial conditions, material properties and parameters for non dimensionalization. Let us have a look at the domain properties."
   ]
  },
  {
   "cell_type": "code",
   "execution_count": null,
   "id": "ba657015",
   "metadata": {},
   "outputs": [],
   "source": [
    "case_setup[\"domain\"]"
   ]
  },
  {
   "cell_type": "markdown",
   "id": "515759ac",
   "metadata": {},
   "source": [
    "The domain properties specify the physical extent of the simulation domain and the spatial resolution. Currently, we use 100 points to discretize the domain. Let's change that value to 200 and run a simulation."
   ]
  },
  {
   "cell_type": "code",
   "execution_count": null,
   "id": "d2e05989",
   "metadata": {},
   "outputs": [],
   "source": [
    "case_setup[\"domain\"][\"x\"][\"cells\"] = 200\n",
    "case_setup[\"domain\"]"
   ]
  },
  {
   "cell_type": "markdown",
   "id": "7bd5e387",
   "metadata": {},
   "source": [
    "## Simulation Setup\n",
    "To run a forward simulation with JAX-Fluids, you need an InputRead, an Initializer, and a SimulationManager."
   ]
  },
  {
   "cell_type": "markdown",
   "id": "b012f4ad",
   "metadata": {},
   "source": [
    "The InputReader reads a case setup file and a numerical setup file. Now, we pass the updated case setup dictionary to the InputReader."
   ]
  },
  {
   "cell_type": "code",
   "execution_count": null,
   "id": "9845f7d5",
   "metadata": {},
   "outputs": [],
   "source": [
    "input_reader = InputReader(case_setup, \"01_numerical_setup_sod.json\")\n",
    "initializer  = Initializer(input_reader)\n",
    "sim_manager  = SimulationManager(input_reader)"
   ]
  },
  {
   "cell_type": "markdown",
   "id": "b2fb3f77",
   "metadata": {},
   "source": [
    "## Run Simulation\n",
    "The Initializer creates a dictionary which contains all initial flow fields. The SimulationManager runs the simulation and writes h5 output files."
   ]
  },
  {
   "cell_type": "code",
   "execution_count": null,
   "id": "cf7c8231",
   "metadata": {},
   "outputs": [],
   "source": [
    "buffer_dictionary = initializer.initialization()\n",
    "sim_manager.simulate(buffer_dictionary)"
   ]
  },
  {
   "cell_type": "markdown",
   "id": "37f8d6ec",
   "metadata": {},
   "source": [
    "As you can see, the spatial resolution has been changed to 200 points in x-direction. Let us load the data and visualize the results."
   ]
  },
  {
   "cell_type": "markdown",
   "id": "a0a0faf9",
   "metadata": {},
   "source": [
    "## Load Data\n",
    "JAX-Fluids offers post-processing tools for visualizing your simulation data. You can find them under jaxfluids.post_process."
   ]
  },
  {
   "cell_type": "code",
   "execution_count": null,
   "id": "69ae755c",
   "metadata": {},
   "outputs": [],
   "source": [
    "path = sim_manager.output_writer.save_path_domain\n",
    "quantities = [\"density\", \"velocityX\", \"pressure\"]\n",
    "cell_centers, cell_sizes, times, data_dict = load_data(path, quantities)"
   ]
  },
  {
   "cell_type": "markdown",
   "id": "5ceb2c3d",
   "metadata": {},
   "source": [
    "## Visualize Data"
   ]
  },
  {
   "cell_type": "code",
   "execution_count": null,
   "id": "b8526369",
   "metadata": {},
   "outputs": [],
   "source": [
    "nrows_ncols = (1,3)\n",
    "create_lineplot(data_dict, cell_centers, times, nrows_ncols=nrows_ncols, interval=100, static_time=0.2)"
   ]
  },
  {
   "cell_type": "code",
   "execution_count": null,
   "id": "765a237c",
   "metadata": {},
   "outputs": [],
   "source": []
  }
 ],
 "metadata": {
  "kernelspec": {
   "display_name": "base",
   "language": "python",
   "name": "python3"
  },
  "language_info": {
   "codemirror_mode": {
    "name": "ipython",
    "version": 3
   },
   "file_extension": ".py",
   "mimetype": "text/x-python",
   "name": "python",
   "nbconvert_exporter": "python",
   "pygments_lexer": "ipython3",
   "version": "3.9.12 (main, Apr  5 2022, 06:56:58) \n[GCC 7.5.0]"
  },
  "vscode": {
   "interpreter": {
    "hash": "2b8d56ab7bb1f68babdca27d0d56cad20d4650aa70ac78ec666c04c380bde05b"
   }
  }
 },
 "nbformat": 4,
 "nbformat_minor": 5
}
